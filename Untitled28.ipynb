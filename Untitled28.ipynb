{
  "nbformat": 4,
  "nbformat_minor": 0,
  "metadata": {
    "colab": {
      "name": "Untitled28.ipynb",
      "provenance": [],
      "collapsed_sections": []
    },
    "kernelspec": {
      "name": "python3",
      "display_name": "Python 3"
    },
    "language_info": {
      "name": "python"
    }
  },
  "cells": [
    {
      "cell_type": "code",
      "execution_count": 4,
      "metadata": {
        "id": "YugoQ86zr_i8",
        "colab": {
          "base_uri": "https://localhost:8080/"
        },
        "outputId": "1003a4a9-6c30-4c0f-86ec-eaca1afb8c8d"
      },
      "outputs": [
        {
          "name": "stdout",
          "output_type": "stream",
          "text": [
            "Enter the username :tamilma@gmail.com\n",
            "Enter password:mba@\n",
            "Now you are ready to log in pls click yesyes\n",
            "Enter username:tamilma@gmail.com\n",
            "Please register here:\n",
            "Enter new username:tamilma@gmail.com\n",
            "Enter new Password:mba@\n"
          ]
        }
      ],
      "source": [
        "from IPython.core.display import display_markdown\n",
        "import re\n",
        "a=input(\"Enter the username :\")\n",
        "dir={}\n",
        "len=[]\n",
        "chr=\"[a-z]+[@]\\w+[.]\\w\"\n",
        "if re.search(chr,a):\n",
        "  len.append(a)\n",
        "  p=input(\"Enter password:\")\n",
        "  b=\"[A-Z]+|[a-z\\d]+[@#$&*]?\"\n",
        "  if re.search(p,b):\n",
        "    print(\"Valid Password\")    \n",
        "    len.append(p)\n",
        "  c=input(\"Now you are ready to log in pls click yes\")\n",
        "  if c==\"yes\":\n",
        "       x=input(\"Enter username:\")\n",
        "       if x in dir:\n",
        "         print(\"Welcomme\")\n",
        "       else:\n",
        "         print(\"Please register here:\")\n",
        "         i = input(\"Enter new username:\")\n",
        "         j = input(\"Enter new Password:\")\n",
        "         len.append(i)\n",
        "         len.append(j)\n",
        "         dir.update({i:j})\n",
        "  if c ==\"Forgot password: \":\n",
        "    i = input(\"Enter the username:\")\n",
        "    if i in dir:\n",
        "      print(dir.get(i))\n",
        "    else:\n",
        "      print(\"pls register again\")\n",
        "\n",
        "else:\n",
        "  print(\"invalid email ID log in again for eg-sherlock@gmail.com :\")                  "
      ]
    },
    {
      "cell_type": "code",
      "source": [
        ""
      ],
      "metadata": {
        "id": "r6DbfNSeUwlB"
      },
      "execution_count": null,
      "outputs": []
    }
  ]
}